{
 "cells": [
  {
   "cell_type": "code",
   "execution_count": 1,
   "metadata": {},
   "outputs": [
    {
     "name": "stdout",
     "output_type": "stream",
     "text": [
      "Requirement already satisfied: requests in /opt/conda/lib/python3.7/site-packages (2.12.4)\r\n"
     ]
    }
   ],
   "source": [
    "!pip install requests\n",
    "import json\n",
    "import requests"
   ]
  },
  {
   "cell_type": "code",
   "execution_count": 6,
   "metadata": {},
   "outputs": [
    {
     "data": {
      "text/plain": [
       "<Response [200]>"
      ]
     },
     "execution_count": 6,
     "metadata": {},
     "output_type": "execute_result"
    }
   ],
   "source": [
    "#API for NAICS lookup\n",
    "yr = 2012\n",
    "code = 519120\n",
    "url = f\"http://naics.codeforamerica.org/v0/q?year={yr}&code={code}\"\n",
    "requests.get(url)"
   ]
  },
  {
   "cell_type": "code",
   "execution_count": 9,
   "metadata": {
    "scrolled": true
   },
   "outputs": [
    {
     "data": {
      "text/plain": [
       "{'index': ['Archives',\n",
       "  'Bookmobiles',\n",
       "  'Centers for documentation (i.e., archives)',\n",
       "  'Circulating libraries',\n",
       "  'Film archives',\n",
       "  'Lending libraries',\n",
       "  'Libraries (except motion picture stock footage, motion picture commercial distribution)',\n",
       "  'Motion picture film libraries, archives',\n",
       "  'Music archives',\n",
       "  'Reference libraries'],\n",
       " 'code': 519120,\n",
       " 'description': ['This industry comprises establishments primarily engaged in providing library or archive services.  These establishments are engaged in maintaining collections of documents (e.g., books, journals, newspapers, and music) and facilitating the use of such documents (recorded information regardless of its physical form and characteristics) as are required to meet the informational, research, educational, or recreational needs of their user.  These establishments may also acquire, research, store, preserve, and generally make accessible to the public historical documents, photographs, maps, audio material, audiovisual material, and other archival material of historical interest.  All or portions of these collections may be accessible electronically.'],\n",
       " 'title': 'Libraries and Archives',\n",
       " 'seq_no': 1475,\n",
       " 'crossrefs': [{'text': 'Providing stock footage (via motion picture and video tape libraries) to the media, multimedia, and advertising industries--are classified in U.S. Industry 512199, Other Motion Picture and Video Industries;',\n",
       "   'code': '512199'},\n",
       "  {'text': 'Providing stock music to the media, multimedia, and advertising industries--are classified in Industry 512290, Other Sound Recording Industries;',\n",
       "   'code': '512290'},\n",
       "  {'text': 'Providing stock photos to the media, multimedia, and advertising industries--are classified in Industry 519190, All Other Information Services; and',\n",
       "   'code': '519190'},\n",
       "  {'text': 'Distributing film and video productions to motion picture theaters, television networks and stations, and exhibitors--are classified in Industry 512120, Motion Picture and Video Distribution.',\n",
       "   'code': '512120'}]}"
      ]
     },
     "execution_count": 9,
     "metadata": {},
     "output_type": "execute_result"
    }
   ],
   "source": [
    "yr = 2017\n",
    "code = 519120\n",
    "url = f\"http://naics.codeforamerica.org/v0/q?year=2012&code=519120\"\n",
    "response = requests.get(url)\n",
    "data = response.json()\n",
    "data"
   ]
  },
  {
   "cell_type": "code",
   "execution_count": null,
   "metadata": {},
   "outputs": [],
   "source": []
  }
 ],
 "metadata": {
  "kernelspec": {
   "display_name": "Python 3",
   "language": "python",
   "name": "python3"
  },
  "language_info": {
   "codemirror_mode": {
    "name": "ipython",
    "version": 3
   },
   "file_extension": ".py",
   "mimetype": "text/x-python",
   "name": "python",
   "nbconvert_exporter": "python",
   "pygments_lexer": "ipython3",
   "version": "3.7.6"
  }
 },
 "nbformat": 4,
 "nbformat_minor": 2
}
